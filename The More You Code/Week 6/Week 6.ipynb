{
 "cells": [
  {
   "cell_type": "code",
   "execution_count": 1,
   "metadata": {
    "pycharm": {
     "is_executing": true
    }
   },
   "outputs": [],
   "source": [
    "import pandas as pd"
   ]
  },
  {
   "cell_type": "code",
   "execution_count": 2,
   "metadata": {},
   "outputs": [],
   "source": [
    "test_data = pd.read_table('test_map.txt', names = ['map'], skip_blank_lines=False).squeeze('columns')\n",
    "raw_data = pd.read_table('map.txt', names = ['map'], skip_blank_lines=False).squeeze('columns')"
   ]
  },
  {
   "cell_type": "code",
   "execution_count": 64,
   "metadata": {},
   "outputs": [
    {
     "data": {
      "text/plain": [
       "11"
      ]
     },
     "execution_count": 64,
     "metadata": {},
     "output_type": "execute_result"
    }
   ],
   "source": [
    "test_data[3-1][7-1]\n",
    "len(test_data)"
   ]
  },
  {
   "cell_type": "code",
   "execution_count": 71,
   "metadata": {},
   "outputs": [
    {
     "data": {
      "text/plain": [
       "7"
      ]
     },
     "execution_count": 71,
     "metadata": {},
     "output_type": "execute_result"
    }
   ],
   "source": [
    "def slide(down, right, trees):\n",
    "    width_trees = len(trees[0])\n",
    "    position = {}\n",
    "    position['row'] = 0\n",
    "    position['column'] = 0\n",
    "    tree_counter = 0\n",
    "    while position['row'] < len(trees):\n",
    "        if trees[position['row']][position['column'] % width_trees] == \"#\":\n",
    "            tree_counter += 1\n",
    "        position['row'] += down\n",
    "        position['column'] += right\n",
    "    return tree_counter\n",
    "\n",
    "slide(1, 3, test_data)"
   ]
  },
  {
   "cell_type": "code",
   "execution_count": 72,
   "metadata": {},
   "outputs": [
    {
     "data": {
      "text/plain": [
       "282"
      ]
     },
     "execution_count": 72,
     "metadata": {},
     "output_type": "execute_result"
    }
   ],
   "source": [
    "slide(1, 3, raw_data)"
   ]
  },
  {
   "cell_type": "code",
   "execution_count": 76,
   "metadata": {},
   "outputs": [
    {
     "data": {
      "text/plain": [
       "958815792"
      ]
     },
     "execution_count": 76,
     "metadata": {},
     "output_type": "execute_result"
    }
   ],
   "source": [
    "all_routes = [[1, 1],\n",
    "              [1, 3],\n",
    "              [1, 5],\n",
    "              [1, 7],\n",
    "              [2, 1]\n",
    "             ]\n",
    "\n",
    "tree_counter = 1\n",
    "for route in all_routes:\n",
    "    tree_counter = tree_counter * slide(route[0], route[1], raw_data)\n",
    "tree_counter"
   ]
  }
 ],
 "metadata": {
  "kernelspec": {
   "display_name": "Python 3 (ipykernel)",
   "language": "python",
   "name": "python3"
  },
  "language_info": {
   "codemirror_mode": {
    "name": "ipython",
    "version": 3
   },
   "file_extension": ".py",
   "mimetype": "text/x-python",
   "name": "python",
   "nbconvert_exporter": "python",
   "pygments_lexer": "ipython3",
   "version": "3.9.6"
  }
 },
 "nbformat": 4,
 "nbformat_minor": 1
}
