{
 "cells": [
  {
   "cell_type": "code",
   "execution_count": 91,
   "id": "ef12a511",
   "metadata": {},
   "outputs": [],
   "source": [
    "import pandas as pd\n",
    "import numpy as np\n",
    "import string\n",
    "import logging"
   ]
  },
  {
   "cell_type": "code",
   "execution_count": 56,
   "id": "4c54bb2a",
   "metadata": {},
   "outputs": [],
   "source": [
    "raw_data = pd.read_table('passport.txt', names = ['response'], skip_blank_lines=False).squeeze('columns')\n",
    "raw_data = raw_data.append(pd.Series(np.nan), ignore_index=True)"
   ]
  },
  {
   "cell_type": "code",
   "execution_count": 15,
   "id": "10d931c0",
   "metadata": {},
   "outputs": [],
   "source": [
    "def create_passport(records):\n",
    "    passport = {}\n",
    "    for row in records:\n",
    "        elements = row.split()\n",
    "        for element in elements:\n",
    "            key, value = element.split(\":\")\n",
    "            passport[key] = value\n",
    "    return passport"
   ]
  },
  {
   "cell_type": "code",
   "execution_count": 21,
   "id": "07127216",
   "metadata": {},
   "outputs": [
    {
     "data": {
      "text/plain": [
       "False"
      ]
     },
     "execution_count": 21,
     "metadata": {},
     "output_type": "execute_result"
    }
   ],
   "source": [
    "def test_passport(passport):\n",
    "    required_fields = ['byr', 'iyr', 'eyr', 'hgt', 'hcl', 'ecl', 'pid']\n",
    "    for field in required_fields:\n",
    "        if field not in passport:\n",
    "            return False\n",
    "    return True"
   ]
  },
  {
   "cell_type": "code",
   "execution_count": 59,
   "id": "85149fe8",
   "metadata": {},
   "outputs": [
    {
     "data": {
      "text/plain": [
       "182"
      ]
     },
     "execution_count": 59,
     "metadata": {},
     "output_type": "execute_result"
    }
   ],
   "source": [
    "raw_passport = []\n",
    "valid_passport_count = 0\n",
    "passport = {}\n",
    "for row in raw_data:\n",
    "    if pd.notnull(row):\n",
    "        raw_passport.append(row)\n",
    "    else:\n",
    "        passport = create_passport(raw_passport)\n",
    "        valid = test_passport(passport)\n",
    "        if valid:\n",
    "            valid_passport_count += 1\n",
    "        raw_passport = []\n",
    "valid_passport_count"
   ]
  },
  {
   "cell_type": "markdown",
   "id": "f0cad4a4",
   "metadata": {},
   "source": [
    "## Part 2"
   ]
  },
  {
   "cell_type": "code",
   "execution_count": 183,
   "id": "93e522ee",
   "metadata": {},
   "outputs": [],
   "source": [
    "log_fmt = '%(asctime)s - %(name)s - %(levelname)s - %(message)s'\n",
    "logging.basicConfig(level=logging.INFO, format=log_fmt)\n",
    "logger = logging.getLogger(__name__)"
   ]
  },
  {
   "cell_type": "code",
   "execution_count": 194,
   "id": "912d034b",
   "metadata": {},
   "outputs": [
    {
     "data": {
      "text/plain": [
       "True"
      ]
     },
     "execution_count": 194,
     "metadata": {},
     "output_type": "execute_result"
    }
   ],
   "source": [
    "def strict_test_passport(passport):\n",
    "    required_fields = ['byr', 'iyr', 'eyr', 'hgt', 'hcl', 'ecl', 'pid']\n",
    "    for field in required_fields:\n",
    "        if field not in passport:\n",
    "            #logger.info(f\"Missing field: {field}\")\n",
    "            return False\n",
    "    if int(passport['byr']) < 1920 or int(passport['byr']) > 2002:\n",
    "        #logger.info(f\"Birth Year: {passport['byr']}\")\n",
    "        return False\n",
    "    if int(passport['iyr']) < 2010 or int(passport['iyr']) > 2020:\n",
    "        return False\n",
    "    if int(passport['eyr']) < 2020 or int(passport['eyr']) > 2030:\n",
    "        return False\n",
    "    if passport['hgt'][-2:] == 'cm':\n",
    "        if int(passport['hgt'][:-2]) < 150 or int(passport['hgt'][:-2]) > 193:\n",
    "            return False\n",
    "    elif passport['hgt'][-2:] == 'in':\n",
    "        if int(passport['hgt'][:-2]) < 59 or int(passport['hgt'][:-2]) > 76:\n",
    "            return False\n",
    "    else:\n",
    "        return False\n",
    "    if passport['hcl'][0:1] != '#':\n",
    "        #logger.info(f\"Hair Color doesn't start #: {passport['hcl']}\")\n",
    "        return False\n",
    "    if len(passport['hcl']) != 7:\n",
    "        return False\n",
    "    if not all(c in string.hexdigits for c in passport['hcl'][1:]):\n",
    "        #logger.info(f\"Hair Color isn't hex: {passport['hcl']}\")\n",
    "        return False\n",
    "    if passport['ecl'] not in ['amb', 'blu', 'brn', 'gry', 'grn', 'hzl', 'oth']:\n",
    "        return False\n",
    "    if len(passport['pid']) != 9:\n",
    "        #logger.info(f\"Passport ID wrong length: {passport['pid']}\")\n",
    "        return False\n",
    "    if not all(c in string.digits for c in passport['pid']):\n",
    "        #logger.info(f\"Passport ID isn't digits: {passport['pid']}\")\n",
    "        return False\n",
    "    return True\n",
    "strict_test_passport(passport)"
   ]
  },
  {
   "cell_type": "code",
   "execution_count": 172,
   "id": "b9a4e523",
   "metadata": {},
   "outputs": [],
   "source": [
    "bad_passports = pd.read_table('bad_passport.txt', names = ['response'], skip_blank_lines=False).squeeze('columns')\n",
    "bad_passports = bad_passports.append(pd.Series(np.nan), ignore_index=True)\n",
    "\n",
    "good_passports = pd.read_table('good_passport.txt', names = ['response'], skip_blank_lines=False).squeeze('columns')\n",
    "good_passports = good_passports.append(pd.Series(np.nan), ignore_index=True)"
   ]
  },
  {
   "cell_type": "code",
   "execution_count": 185,
   "id": "98b696fa",
   "metadata": {},
   "outputs": [
    {
     "name": "stderr",
     "output_type": "stream",
     "text": [
      "2022-03-11 16:10:25,643 - __main__ - INFO - Hair Color doesn't start #: dab227\n",
      "2022-03-11 16:10:25,644 - __main__ - INFO - Birth Year: 2007\n",
      "2022-03-11 16:10:25,644 - __main__ - INFO - Birth Year: 1892\n",
      "2022-03-11 16:10:25,648 - __main__ - INFO - Hair Color doesn't start #: 1f7352\n",
      "2022-03-11 16:10:25,649 - __main__ - INFO - Hair Color isn't hex: #b6652z\n",
      "2022-03-11 16:10:25,650 - __main__ - INFO - Passport ID wrong length: 09315471912\n",
      "2022-03-11 16:10:25,650 - __main__ - INFO - Passport ID isn't digits: 09315471a\n"
     ]
    },
    {
     "data": {
      "text/plain": [
       "0"
      ]
     },
     "execution_count": 185,
     "metadata": {},
     "output_type": "execute_result"
    }
   ],
   "source": [
    "raw_passport = []\n",
    "valid_passport_count = 0\n",
    "passport = {}\n",
    "for row in bad_passports:\n",
    "    if pd.notnull(row):\n",
    "        raw_passport.append(row)\n",
    "    else:\n",
    "        passport = create_passport(raw_passport)\n",
    "        valid = strict_test_passport(passport)\n",
    "        if valid:\n",
    "            valid_passport_count += 1\n",
    "        raw_passport = []\n",
    "valid_passport_count"
   ]
  },
  {
   "cell_type": "code",
   "execution_count": 170,
   "id": "38245900",
   "metadata": {},
   "outputs": [
    {
     "data": {
      "text/plain": [
       "4"
      ]
     },
     "execution_count": 170,
     "metadata": {},
     "output_type": "execute_result"
    }
   ],
   "source": [
    "raw_passport = []\n",
    "valid_passport_count = 0\n",
    "passport = {}\n",
    "for row in good_passports:\n",
    "    if pd.notnull(row):\n",
    "        raw_passport.append(row)\n",
    "    else:\n",
    "        passport = create_passport(raw_passport)\n",
    "        valid = strict_test_passport(passport)\n",
    "        if valid:\n",
    "            valid_passport_count += 1\n",
    "        raw_passport = []\n",
    "valid_passport_count"
   ]
  },
  {
   "cell_type": "code",
   "execution_count": 187,
   "id": "b9178e06",
   "metadata": {},
   "outputs": [
    {
     "name": "stderr",
     "output_type": "stream",
     "text": [
      "2022-03-11 16:10:49,529 - __main__ - INFO - Passport: {'hcl': '#602927', 'iyr': '2018', 'byr': '1938', 'ecl': 'blu', 'eyr': '2024', 'hgt': '172cm', 'pid': '839621424'}\n",
      "2022-03-11 16:10:49,530 - __main__ - INFO - Passport: {'ecl': 'gry', 'byr': '1931', 'iyr': '2017', 'pid': '459927933', 'eyr': '2028', 'hgt': '67in', 'hcl': '#fffffd'}\n",
      "2022-03-11 16:10:49,530 - __main__ - INFO - Passport: {'cid': '322', 'hgt': '163cm', 'byr': '1969', 'hcl': '#a97842', 'pid': '472877556', 'iyr': '2019', 'ecl': 'amb', 'eyr': '2030'}\n",
      "2022-03-11 16:10:49,531 - __main__ - INFO - Passport: {'hcl': '#733820', 'ecl': 'brn', 'byr': '2000', 'eyr': '2022', 'iyr': '2014', 'cid': '320', 'pid': '751634349', 'hgt': '180cm'}\n",
      "2022-03-11 16:10:49,532 - __main__ - INFO - Passport: {'pid': '258660154', 'byr': '1921', 'hgt': '161cm', 'eyr': '2030', 'cid': '217', 'iyr': '2012', 'hcl': '#4dd6d4', 'ecl': 'grn'}\n",
      "2022-03-11 16:10:49,532 - __main__ - INFO - Passport: {'hgt': '170cm', 'byr': '1978', 'eyr': '2022', 'pid': '399347273', 'iyr': '2010', 'cid': '109', 'ecl': 'blu', 'hcl': '#602927'}\n",
      "2022-03-11 16:10:49,533 - __main__ - INFO - Passport: {'pid': '172106685', 'hgt': '183cm', 'ecl': 'gry', 'iyr': '2020', 'eyr': '2025', 'hcl': '#18171d', 'byr': '1980', 'cid': '289'}\n",
      "2022-03-11 16:10:49,534 - __main__ - INFO - Passport: {'ecl': 'brn', 'iyr': '2014', 'cid': '74', 'hcl': '#623a2f', 'hgt': '187cm', 'byr': '1955', 'pid': '008305281', 'eyr': '2025'}\n",
      "2022-03-11 16:10:49,534 - __main__ - INFO - Passport: {'pid': '428624233', 'ecl': 'grn', 'eyr': '2027', 'hgt': '167cm', 'hcl': '#623a2f', 'byr': '1960', 'iyr': '2016'}\n",
      "2022-03-11 16:10:49,535 - __main__ - INFO - Passport: {'eyr': '2027', 'pid': '358876826', 'hgt': '171cm', 'ecl': 'oth', 'byr': '1957', 'iyr': '2018', 'hcl': '#ceb3a1', 'cid': '314'}\n",
      "2022-03-11 16:10:49,535 - __main__ - INFO - Passport: {'cid': '268', 'hgt': '73in', 'hcl': '#6b5442', 'eyr': '2025', 'ecl': 'brn', 'byr': '1988', 'pid': '899417027', 'iyr': '2015'}\n",
      "2022-03-11 16:10:49,536 - __main__ - INFO - Passport: {'iyr': '2020', 'hcl': '#b6652a', 'hgt': '177cm', 'eyr': '2028', 'ecl': 'hzl', 'byr': '1995', 'pid': '594197202'}\n",
      "2022-03-11 16:10:49,536 - __main__ - INFO - Passport: {'hcl': '#a97842', 'hgt': '179cm', 'byr': '1930', 'ecl': 'brn', 'pid': '010268954', 'eyr': '2020', 'iyr': '2010'}\n",
      "2022-03-11 16:10:49,537 - __main__ - INFO - Passport: {'eyr': '2028', 'ecl': 'blu', 'byr': '1935', 'hcl': '#6b5442', 'pid': '187679418', 'hgt': '174cm', 'iyr': '2016'}\n",
      "2022-03-11 16:10:49,537 - __main__ - INFO - Passport: {'iyr': '2019', 'hgt': '164cm', 'pid': '704379775', 'ecl': 'oth', 'hcl': '#888785', 'byr': '1930', 'eyr': '2025'}\n",
      "2022-03-11 16:10:49,538 - __main__ - INFO - Passport: {'ecl': 'hzl', 'hcl': '#7d3b0c', 'eyr': '2022', 'pid': '011589584', 'hgt': '64in', 'byr': '1945', 'iyr': '2014'}\n",
      "2022-03-11 16:10:49,539 - __main__ - INFO - Passport: {'byr': '1950', 'hcl': '#18171d', 'pid': '685748669', 'eyr': '2028', 'iyr': '2010', 'hgt': '176cm', 'ecl': 'grn'}\n",
      "2022-03-11 16:10:49,539 - __main__ - INFO - Passport: {'byr': '1989', 'hgt': '163cm', 'hcl': '#18171d', 'ecl': 'grn', 'iyr': '2020', 'pid': '721397788', 'cid': '308', 'eyr': '2020'}\n",
      "2022-03-11 16:10:49,540 - __main__ - INFO - Passport: {'ecl': 'amb', 'byr': '1951', 'hgt': '186cm', 'pid': '812513486', 'iyr': '2012', 'eyr': '2029', 'hcl': '#fffffd'}\n",
      "2022-03-11 16:10:49,540 - __main__ - INFO - Passport: {'cid': '102', 'byr': '1923', 'eyr': '2025', 'pid': '222102208', 'iyr': '2019', 'hcl': '#341e13', 'hgt': '167cm', 'ecl': 'amb'}\n",
      "2022-03-11 16:10:49,541 - __main__ - INFO - Passport: {'cid': '216', 'eyr': '2022', 'ecl': 'brn', 'pid': '002875069', 'iyr': '2019', 'hcl': '#cfa07d', 'byr': '1991', 'hgt': '164cm'}\n",
      "2022-03-11 16:10:49,541 - __main__ - INFO - Passport: {'iyr': '2014', 'byr': '1933', 'pid': '537809907', 'hgt': '185cm', 'eyr': '2029', 'hcl': '#341e13', 'ecl': 'blu'}\n",
      "2022-03-11 16:10:49,542 - __main__ - INFO - Passport: {'cid': '286', 'hgt': '166cm', 'byr': '1977', 'iyr': '2012', 'pid': '541909675', 'ecl': 'oth', 'eyr': '2020', 'hcl': '#59eb12'}\n",
      "2022-03-11 16:10:49,542 - __main__ - INFO - Passport: {'hcl': '#18171d', 'cid': '329', 'byr': '1921', 'eyr': '2027', 'iyr': '2019', 'pid': '440820443', 'hgt': '75in', 'ecl': 'blu'}\n",
      "2022-03-11 16:10:49,543 - __main__ - INFO - Passport: {'hcl': '#733820', 'hgt': '177cm', 'pid': '085529831', 'eyr': '2029', 'iyr': '2010', 'ecl': 'amb', 'byr': '1972'}\n",
      "2022-03-11 16:10:49,544 - __main__ - INFO - Passport: {'iyr': '2020', 'eyr': '2022', 'hgt': '191cm', 'hcl': '#7d3b0c', 'ecl': 'blu', 'byr': '1943', 'pid': '969407635'}\n",
      "2022-03-11 16:10:49,544 - __main__ - INFO - Passport: {'pid': '427618420', 'hgt': '155cm', 'iyr': '2012', 'ecl': 'brn', 'byr': '1948', 'eyr': '2029', 'hcl': '#6b5442'}\n",
      "2022-03-11 16:10:49,545 - __main__ - INFO - Passport: {'iyr': '2010', 'hcl': '#341e13', 'pid': '011326174', 'hgt': '185cm', 'byr': '1976', 'cid': '207', 'eyr': '2027', 'ecl': 'amb'}\n",
      "2022-03-11 16:10:49,546 - __main__ - INFO - Passport: {'hgt': '64in', 'pid': '499837104', 'hcl': '#3be285', 'byr': '1944', 'eyr': '2024', 'iyr': '2017', 'ecl': 'gry'}\n",
      "2022-03-11 16:10:49,546 - __main__ - INFO - Passport: {'cid': '256', 'hcl': '#a97842', 'byr': '2000', 'iyr': '2018', 'ecl': 'oth', 'eyr': '2022', 'pid': '637777693', 'hgt': '160cm'}\n",
      "2022-03-11 16:10:49,547 - __main__ - INFO - Passport: {'hgt': '152cm', 'cid': '164', 'hcl': '#866857', 'ecl': 'grn', 'eyr': '2025', 'pid': '495224989', 'iyr': '2020', 'byr': '1949'}\n",
      "2022-03-11 16:10:49,548 - __main__ - INFO - Passport: {'hgt': '182cm', 'ecl': 'blu', 'hcl': '#18171d', 'pid': '047931925', 'byr': '1964', 'iyr': '2012', 'eyr': '2030', 'cid': '167'}\n",
      "2022-03-11 16:10:49,548 - __main__ - INFO - Passport: {'byr': '1958', 'hcl': '#866857', 'iyr': '2019', 'hgt': '165cm', 'pid': '553631683', 'cid': '109', 'ecl': 'gry', 'eyr': '2023'}\n",
      "2022-03-11 16:10:49,549 - __main__ - INFO - Passport: {'cid': '156', 'iyr': '2014', 'pid': '811368482', 'eyr': '2026', 'hcl': '#b6652a', 'byr': '1994', 'hgt': '184cm', 'ecl': 'brn'}\n",
      "2022-03-11 16:10:49,550 - __main__ - INFO - Passport: {'iyr': '2017', 'hcl': '#c0946f', 'pid': '716422629', 'cid': '104', 'byr': '1974', 'hgt': '160cm', 'eyr': '2021', 'ecl': 'brn'}\n",
      "2022-03-11 16:10:49,550 - __main__ - INFO - Passport: {'byr': '2002', 'hgt': '180cm', 'hcl': '#602927', 'eyr': '2025', 'ecl': 'grn', 'iyr': '2011', 'pid': '887584172'}\n",
      "2022-03-11 16:10:49,551 - __main__ - INFO - Passport: {'iyr': '2016', 'hgt': '161cm', 'byr': '1989', 'eyr': '2023', 'ecl': 'amb', 'pid': '133770783', 'hcl': '#fffffd'}\n",
      "2022-03-11 16:10:49,552 - __main__ - INFO - Passport: {'cid': '75', 'byr': '1986', 'eyr': '2020', 'pid': '099478576', 'ecl': 'blu', 'hcl': '#733820', 'iyr': '2011', 'hgt': '158cm'}\n",
      "2022-03-11 16:10:49,552 - __main__ - INFO - Passport: {'pid': '911200183', 'hcl': '#602927', 'eyr': '2029', 'iyr': '2018', 'ecl': 'brn', 'hgt': '181cm', 'byr': '1937'}\n",
      "2022-03-11 16:10:49,553 - __main__ - INFO - Passport: {'hcl': '#18171d', 'eyr': '2025', 'cid': '222', 'byr': '1924', 'ecl': 'oth', 'pid': '898594506', 'hgt': '182cm', 'iyr': '2017'}\n",
      "2022-03-11 16:10:49,554 - __main__ - INFO - Passport: {'pid': '636691339', 'iyr': '2018', 'byr': '1930', 'hcl': '#b6652a', 'cid': '86', 'hgt': '184cm', 'ecl': 'oth', 'eyr': '2029'}\n",
      "2022-03-11 16:10:49,554 - __main__ - INFO - Passport: {'iyr': '2014', 'byr': '1927', 'hcl': '#fffffd', 'ecl': 'amb', 'eyr': '2022', 'hgt': '188cm', 'pid': '602778565'}\n",
      "2022-03-11 16:10:49,555 - __main__ - INFO - Passport: {'hgt': '155cm', 'iyr': '2015', 'byr': '1954', 'pid': '559203670', 'ecl': 'blu', 'hcl': '#fffffd', 'eyr': '2025'}\n",
      "2022-03-11 16:10:49,556 - __main__ - INFO - Passport: {'iyr': '2011', 'ecl': 'amb', 'eyr': '2026', 'hgt': '163cm', 'byr': '1932', 'hcl': '#733820', 'pid': '850176278'}\n",
      "2022-03-11 16:10:49,556 - __main__ - INFO - Passport: {'eyr': '2030', 'hgt': '170cm', 'iyr': '2017', 'byr': '1972', 'pid': '014731313', 'hcl': '#341e13', 'ecl': 'brn'}\n",
      "2022-03-11 16:10:49,557 - __main__ - INFO - Passport: {'pid': '133005637', 'hgt': '167cm', 'cid': '317', 'eyr': '2025', 'hcl': '#341e13', 'iyr': '2012', 'ecl': 'gry', 'byr': '1950'}\n",
      "2022-03-11 16:10:49,558 - __main__ - INFO - Passport: {'hcl': '#b6652a', 'cid': '142', 'ecl': 'oth', 'hgt': '190cm', 'byr': '1962', 'pid': '997137384', 'iyr': '2020', 'eyr': '2029'}\n"
     ]
    },
    {
     "name": "stderr",
     "output_type": "stream",
     "text": [
      "2022-03-11 16:10:49,558 - __main__ - INFO - Passport: {'ecl': 'brn', 'byr': '1962', 'hcl': '#866857', 'iyr': '2020', 'hgt': '152cm', 'pid': '701556397', 'cid': '121', 'eyr': '2029'}\n",
      "2022-03-11 16:10:49,559 - __main__ - INFO - Passport: {'iyr': '2016', 'hgt': '168cm', 'byr': '1999', 'cid': '286', 'hcl': '#18171d', 'pid': '223995430', 'eyr': '2022', 'ecl': 'blu'}\n",
      "2022-03-11 16:10:49,559 - __main__ - INFO - Passport: {'pid': '227780276', 'ecl': 'blu', 'iyr': '2017', 'byr': '1985', 'hcl': '#6b5442', 'hgt': '183cm', 'eyr': '2028'}\n",
      "2022-03-11 16:10:49,560 - __main__ - INFO - Passport: {'hgt': '190cm', 'ecl': 'oth', 'eyr': '2030', 'cid': '223', 'hcl': '#888785', 'iyr': '2010', 'pid': '115829664', 'byr': '1967'}\n",
      "2022-03-11 16:10:49,561 - __main__ - INFO - Passport: {'eyr': '2025', 'iyr': '2013', 'byr': '1958', 'ecl': 'grn', 'hcl': '#ceb3a1', 'hgt': '153cm', 'pid': '815357118'}\n",
      "2022-03-11 16:10:49,561 - __main__ - INFO - Passport: {'pid': '038013822', 'hgt': '180cm', 'iyr': '2013', 'hcl': '#623a2f', 'ecl': 'grn', 'eyr': '2029', 'byr': '1949'}\n",
      "2022-03-11 16:10:49,562 - __main__ - INFO - Passport: {'hgt': '183cm', 'hcl': '#efcc98', 'pid': '428260080', 'cid': '231', 'eyr': '2025', 'ecl': 'grn', 'iyr': '2010', 'byr': '1957'}\n",
      "2022-03-11 16:10:49,563 - __main__ - INFO - Passport: {'hcl': '#ceb3a1', 'iyr': '2014', 'byr': '1981', 'hgt': '167cm', 'ecl': 'grn', 'eyr': '2021', 'pid': '926925947'}\n",
      "2022-03-11 16:10:49,563 - __main__ - INFO - Passport: {'eyr': '2029', 'hgt': '166cm', 'pid': '499909488', 'byr': '1929', 'hcl': '#866857', 'ecl': 'brn', 'iyr': '2013'}\n",
      "2022-03-11 16:10:49,564 - __main__ - INFO - Passport: {'pid': '440245122', 'byr': '1992', 'hgt': '179cm', 'iyr': '2010', 'cid': '181', 'ecl': 'brn', 'hcl': '#888785', 'eyr': '2020'}\n",
      "2022-03-11 16:10:49,565 - __main__ - INFO - Passport: {'hcl': '#1b0a51', 'pid': '129985083', 'eyr': '2029', 'hgt': '192cm', 'cid': '236', 'byr': '1996', 'ecl': 'blu', 'iyr': '2016'}\n",
      "2022-03-11 16:10:49,565 - __main__ - INFO - Passport: {'cid': '187', 'eyr': '2029', 'hcl': '#efcc98', 'byr': '1986', 'pid': '760318090', 'hgt': '169cm', 'iyr': '2018', 'ecl': 'amb'}\n",
      "2022-03-11 16:10:49,566 - __main__ - INFO - Passport: {'hcl': '#ceb3a1', 'ecl': 'grn', 'iyr': '2018', 'byr': '1978', 'hgt': '183cm', 'pid': '566862236', 'eyr': '2028'}\n",
      "2022-03-11 16:10:49,566 - __main__ - INFO - Passport: {'ecl': 'grn', 'hcl': '#18171d', 'byr': '1957', 'pid': '325895714', 'iyr': '2018', 'eyr': '2023', 'hgt': '162cm'}\n",
      "2022-03-11 16:10:49,567 - __main__ - INFO - Passport: {'eyr': '2025', 'cid': '181', 'hgt': '186cm', 'byr': '1968', 'ecl': 'brn', 'pid': '318405093', 'hcl': '#341e13', 'iyr': '2015'}\n",
      "2022-03-11 16:10:49,567 - __main__ - INFO - Passport: {'hcl': '#c12f4b', 'eyr': '2025', 'cid': '311', 'pid': '652667870', 'ecl': 'oth', 'hgt': '166cm', 'byr': '1981', 'iyr': '2016'}\n",
      "2022-03-11 16:10:49,568 - __main__ - INFO - Passport: {'byr': '1937', 'eyr': '2021', 'iyr': '2017', 'cid': '91', 'hgt': '183cm', 'hcl': '#a97842', 'ecl': 'blu', 'pid': '149192621'}\n",
      "2022-03-11 16:10:49,568 - __main__ - INFO - Passport: {'hgt': '154cm', 'hcl': '#602927', 'ecl': 'oth', 'byr': '1939', 'iyr': '2018', 'pid': '670669747', 'eyr': '2029', 'cid': '301'}\n",
      "2022-03-11 16:10:49,569 - __main__ - INFO - Passport: {'eyr': '2025', 'pid': '249412970', 'ecl': 'oth', 'iyr': '2016', 'byr': '1921', 'hcl': '#a97842', 'hgt': '176cm'}\n",
      "2022-03-11 16:10:49,569 - __main__ - INFO - Passport: {'hgt': '164cm', 'iyr': '2016', 'byr': '1988', 'ecl': 'gry', 'eyr': '2030', 'hcl': '#efcc98', 'pid': '393258887'}\n",
      "2022-03-11 16:10:49,570 - __main__ - INFO - Passport: {'iyr': '2011', 'hgt': '165cm', 'eyr': '2020', 'byr': '1966', 'hcl': '#efcc98', 'pid': '691169980', 'ecl': 'blu'}\n",
      "2022-03-11 16:10:49,570 - __main__ - INFO - Passport: {'iyr': '2011', 'hcl': '#602927', 'eyr': '2029', 'byr': '1966', 'ecl': 'oth', 'hgt': '165cm', 'pid': '945383793'}\n",
      "2022-03-11 16:10:49,571 - __main__ - INFO - Passport: {'eyr': '2020', 'byr': '1995', 'hcl': '#b6652a', 'ecl': 'amb', 'pid': '746523744', 'iyr': '2015', 'hgt': '178cm'}\n",
      "2022-03-11 16:10:49,572 - __main__ - INFO - Passport: {'ecl': 'gry', 'iyr': '2017', 'eyr': '2020', 'pid': '537816651', 'hgt': '183cm', 'cid': '160', 'byr': '1996', 'hcl': '#733820'}\n",
      "2022-03-11 16:10:49,572 - __main__ - INFO - Passport: {'eyr': '2030', 'cid': '258', 'iyr': '2020', 'ecl': 'grn', 'byr': '1947', 'pid': '571610070', 'hgt': '162cm', 'hcl': '#888785'}\n",
      "2022-03-11 16:10:49,573 - __main__ - INFO - Passport: {'ecl': 'hzl', 'iyr': '2019', 'hcl': '#c0946f', 'eyr': '2025', 'byr': '1999', 'hgt': '178cm', 'pid': '026042669'}\n",
      "2022-03-11 16:10:49,574 - __main__ - INFO - Passport: {'cid': '99', 'pid': '706477697', 'iyr': '2018', 'hgt': '171cm', 'eyr': '2027', 'ecl': 'oth', 'byr': '1978', 'hcl': '#930aef'}\n",
      "2022-03-11 16:10:49,575 - __main__ - INFO - Passport: {'iyr': '2017', 'byr': '1935', 'eyr': '2029', 'ecl': 'amb', 'pid': '321873254', 'hgt': '179cm', 'hcl': '#1b9aea', 'cid': '160'}\n",
      "2022-03-11 16:10:49,576 - __main__ - INFO - Passport: {'iyr': '2013', 'ecl': 'hzl', 'eyr': '2023', 'cid': '233', 'byr': '1996', 'pid': '605962483', 'hgt': '175cm', 'hcl': '#ceb3a1'}\n",
      "2022-03-11 16:10:49,576 - __main__ - INFO - Passport: {'cid': '110', 'byr': '1935', 'eyr': '2021', 'hgt': '172cm', 'iyr': '2020', 'pid': '643443673', 'hcl': '#888785', 'ecl': 'brn'}\n",
      "2022-03-11 16:10:49,578 - __main__ - INFO - Passport: {'cid': '309', 'iyr': '2010', 'ecl': 'oth', 'hgt': '188cm', 'hcl': '#18171d', 'eyr': '2028', 'pid': '174227992', 'byr': '1931'}\n",
      "2022-03-11 16:10:49,578 - __main__ - INFO - Passport: {'pid': '192554211', 'eyr': '2020', 'hgt': '192cm', 'ecl': 'gry', 'cid': '158', 'iyr': '2015', 'byr': '1940', 'hcl': '#efcc98'}\n",
      "2022-03-11 16:10:49,579 - __main__ - INFO - Passport: {'iyr': '2010', 'eyr': '2022', 'cid': '276', 'hcl': '#a97842', 'byr': '1968', 'ecl': 'gry', 'pid': '808830560', 'hgt': '188cm'}\n",
      "2022-03-11 16:10:49,580 - __main__ - INFO - Passport: {'byr': '1941', 'pid': '039744699', 'hcl': '#efcc98', 'hgt': '190cm', 'iyr': '2011', 'eyr': '2020', 'ecl': 'blu'}\n",
      "2022-03-11 16:10:49,581 - __main__ - INFO - Passport: {'ecl': 'blu', 'iyr': '2011', 'byr': '1928', 'hcl': '#c0946f', 'hgt': '172cm', 'eyr': '2026', 'pid': '171544458'}\n",
      "2022-03-11 16:10:49,581 - __main__ - INFO - Passport: {'byr': '1929', 'pid': '145819079', 'ecl': 'hzl', 'hgt': '192cm', 'iyr': '2015', 'eyr': '2020', 'hcl': '#b6652a'}\n",
      "2022-03-11 16:10:49,582 - __main__ - INFO - Passport: {'byr': '1981', 'ecl': 'amb', 'pid': '123467924', 'eyr': '2024', 'hcl': '#18171d', 'hgt': '184cm', 'iyr': '2017'}\n",
      "2022-03-11 16:10:49,582 - __main__ - INFO - Passport: {'eyr': '2022', 'pid': '208725350', 'byr': '1944', 'ecl': 'blu', 'hcl': '#18171d', 'cid': '164', 'hgt': '170cm', 'iyr': '2014'}\n",
      "2022-03-11 16:10:49,583 - __main__ - INFO - Passport: {'byr': '1944', 'cid': '87', 'pid': '463367304', 'iyr': '2020', 'hgt': '188cm', 'ecl': 'gry', 'eyr': '2027', 'hcl': '#cfa07d'}\n",
      "2022-03-11 16:10:49,583 - __main__ - INFO - Passport: {'hgt': '155cm', 'pid': '791416860', 'iyr': '2015', 'cid': '278', 'hcl': '#18171d', 'byr': '1994', 'ecl': 'brn', 'eyr': '2023'}\n",
      "2022-03-11 16:10:49,584 - __main__ - INFO - Passport: {'iyr': '2017', 'cid': '245', 'eyr': '2026', 'byr': '1932', 'ecl': 'blu', 'hgt': '159cm', 'pid': '904760812', 'hcl': '#18171d'}\n",
      "2022-03-11 16:10:49,584 - __main__ - INFO - Passport: {'ecl': 'blu', 'hcl': '#6b5442', 'iyr': '2015', 'eyr': '2023', 'pid': '535891497', 'hgt': '175cm', 'cid': '168', 'byr': '1920'}\n",
      "2022-03-11 16:10:49,585 - __main__ - INFO - Passport: {'byr': '2000', 'hcl': '#6b5442', 'hgt': '156cm', 'pid': '765444727', 'iyr': '2012', 'ecl': 'brn', 'eyr': '2028'}\n",
      "2022-03-11 16:10:49,585 - __main__ - INFO - Passport: {'cid': '275', 'byr': '1928', 'iyr': '2010', 'hcl': '#888785', 'pid': '596954301', 'ecl': 'brn', 'eyr': '2020', 'hgt': '166cm'}\n",
      "2022-03-11 16:10:49,586 - __main__ - INFO - Passport: {'cid': '163', 'byr': '1984', 'eyr': '2027', 'iyr': '2020', 'ecl': 'gry', 'hgt': '166cm', 'pid': '650001846', 'hcl': '#602927'}\n",
      "2022-03-11 16:10:49,586 - __main__ - INFO - Passport: {'eyr': '2024', 'iyr': '2016', 'pid': '133523002', 'hgt': '62in', 'hcl': '#d99c14', 'byr': '1996', 'ecl': 'hzl'}\n",
      "2022-03-11 16:10:49,587 - __main__ - INFO - Passport: {'eyr': '2026', 'iyr': '2019', 'hgt': '189cm', 'ecl': 'brn', 'hcl': '#623a2f', 'byr': '1979', 'pid': '172111665'}\n"
     ]
    },
    {
     "name": "stderr",
     "output_type": "stream",
     "text": [
      "2022-03-11 16:10:49,587 - __main__ - INFO - Passport: {'eyr': '2024', 'hcl': '#6b5442', 'iyr': '2014', 'hgt': '68in', 'pid': '577055593', 'ecl': 'grn', 'byr': '1996'}\n",
      "2022-03-11 16:10:49,587 - __main__ - INFO - Passport: {'hcl': '#efcc98', 'eyr': '2022', 'ecl': 'grn', 'hgt': '167cm', 'byr': '1978', 'iyr': '2010', 'pid': '180446111'}\n",
      "2022-03-11 16:10:49,588 - __main__ - INFO - Passport: {'hcl': '#341e13', 'ecl': 'brn', 'iyr': '2019', 'pid': '589837530', 'cid': '157', 'byr': '1925', 'hgt': '183cm', 'eyr': '2020'}\n",
      "2022-03-11 16:10:49,588 - __main__ - INFO - Passport: {'ecl': 'oth', 'iyr': '2012', 'eyr': '2028', 'hcl': '#866857', 'pid': '716964854', 'byr': '1940', 'cid': '113', 'hgt': '193cm'}\n",
      "2022-03-11 16:10:49,589 - __main__ - INFO - Passport: {'byr': '1985', 'iyr': '2011', 'hcl': '#866857', 'pid': '454558712', 'eyr': '2025', 'cid': '301', 'hgt': '62in', 'ecl': 'blu'}\n",
      "2022-03-11 16:10:49,589 - __main__ - INFO - Passport: {'hcl': '#733820', 'eyr': '2025', 'ecl': 'amb', 'pid': '855788635', 'iyr': '2016', 'byr': '1965', 'cid': '140', 'hgt': '183cm'}\n",
      "2022-03-11 16:10:49,589 - __main__ - INFO - Passport: {'hcl': '#733820', 'eyr': '2022', 'pid': '708208638', 'hgt': '162cm', 'cid': '326', 'iyr': '2018', 'ecl': 'oth', 'byr': '1997'}\n",
      "2022-03-11 16:10:49,590 - __main__ - INFO - Passport: {'hcl': '#733820', 'iyr': '2019', 'eyr': '2020', 'hgt': '190cm', 'pid': '042907748', 'ecl': 'grn', 'byr': '1920'}\n",
      "2022-03-11 16:10:49,591 - __main__ - INFO - Passport: {'ecl': 'oth', 'eyr': '2030', 'byr': '1960', 'hcl': '#a97842', 'cid': '285', 'hgt': '60in', 'pid': '655974048', 'iyr': '2016'}\n",
      "2022-03-11 16:10:49,591 - __main__ - INFO - Passport: {'hcl': '#fffffd', 'ecl': 'hzl', 'hgt': '191cm', 'byr': '1935', 'iyr': '2015', 'cid': '240', 'eyr': '2030', 'pid': '778049989'}\n",
      "2022-03-11 16:10:49,592 - __main__ - INFO - Passport: {'eyr': '2023', 'hcl': '#623a2f', 'cid': '103', 'pid': '476193829', 'hgt': '181cm', 'ecl': 'oth', 'byr': '1997', 'iyr': '2014'}\n",
      "2022-03-11 16:10:49,593 - __main__ - INFO - Passport: {'byr': '1996', 'eyr': '2026', 'pid': '268556486', 'ecl': 'brn', 'hgt': '150cm', 'iyr': '2013', 'hcl': '#7d3b0c'}\n",
      "2022-03-11 16:10:49,594 - __main__ - INFO - Passport: {'pid': '530689228', 'byr': '1938', 'iyr': '2015', 'hgt': '185cm', 'ecl': 'hzl', 'eyr': '2022', 'hcl': '#866857'}\n",
      "2022-03-11 16:10:49,594 - __main__ - INFO - Passport: {'hgt': '171cm', 'ecl': 'gry', 'hcl': '#6b5442', 'byr': '1953', 'iyr': '2011', 'pid': '622763802', 'eyr': '2026'}\n",
      "2022-03-11 16:10:49,595 - __main__ - INFO - Passport: {'hgt': '122', 'ecl': 'amb', 'pid': '105302121', 'iyr': '2017', 'hcl': '#733820', 'eyr': '2027', 'byr': '1955'}\n",
      "2022-03-11 16:10:49,595 - __main__ - INFO - Passport: {'hcl': '#95f96b', 'hgt': '193cm', 'iyr': '2020', 'pid': '719337690', 'byr': '1971', 'ecl': 'brn', 'eyr': '2024'}\n"
     ]
    },
    {
     "data": {
      "text/plain": [
       "110"
      ]
     },
     "execution_count": 187,
     "metadata": {},
     "output_type": "execute_result"
    }
   ],
   "source": [
    "raw_passport = []\n",
    "valid_passport_count = 0\n",
    "passport = {}\n",
    "for row in raw_data:\n",
    "    if pd.notnull(row):\n",
    "        raw_passport.append(row)\n",
    "    else:\n",
    "        passport = create_passport(raw_passport)\n",
    "        #logger.info(f\"Passport: {passport}\")\n",
    "        valid = strict_test_passport(passport)\n",
    "        #logger.info(f\"Valid: {valid}\")\n",
    "        if valid:\n",
    "            logger.info(f\"Passport: {passport}\")\n",
    "            valid_passport_count += 1\n",
    "        raw_passport = []\n",
    "valid_passport_count"
   ]
  },
  {
   "cell_type": "code",
   "execution_count": 197,
   "id": "65166661",
   "metadata": {},
   "outputs": [
    {
     "name": "stderr",
     "output_type": "stream",
     "text": [
      "2022-03-11 16:17:32,413 - __main__ - INFO - Passport: {'hcl': '#602927', 'iyr': '2018', 'byr': '1938', 'ecl': 'blu', 'eyr': '2024', 'hgt': '172cm', 'pid': '839621424'}\n",
      "2022-03-11 16:17:32,413 - __main__ - INFO - Passport: {'ecl': 'gry', 'byr': '1931', 'iyr': '2017', 'pid': '459927933', 'eyr': '2028', 'hgt': '67in', 'hcl': '#fffffd'}\n",
      "2022-03-11 16:17:32,414 - __main__ - INFO - Passport: {'cid': '322', 'hgt': '163cm', 'byr': '1969', 'hcl': '#a97842', 'pid': '472877556', 'iyr': '2019', 'ecl': 'amb', 'eyr': '2030'}\n",
      "2022-03-11 16:17:32,415 - __main__ - INFO - Passport: {'hcl': '#733820', 'ecl': 'brn', 'byr': '2000', 'eyr': '2022', 'iyr': '2014', 'cid': '320', 'pid': '751634349', 'hgt': '180cm'}\n",
      "2022-03-11 16:17:32,415 - __main__ - INFO - Passport: {'pid': '258660154', 'byr': '1921', 'hgt': '161cm', 'eyr': '2030', 'cid': '217', 'iyr': '2012', 'hcl': '#4dd6d4', 'ecl': 'grn'}\n",
      "2022-03-11 16:17:32,416 - __main__ - INFO - Passport: {'hgt': '170cm', 'byr': '1978', 'eyr': '2022', 'pid': '399347273', 'iyr': '2010', 'cid': '109', 'ecl': 'blu', 'hcl': '#602927'}\n",
      "2022-03-11 16:17:32,417 - __main__ - INFO - Passport: {'pid': '172106685', 'hgt': '183cm', 'ecl': 'gry', 'iyr': '2020', 'eyr': '2025', 'hcl': '#18171d', 'byr': '1980', 'cid': '289'}\n",
      "2022-03-11 16:17:32,417 - __main__ - INFO - Passport: {'ecl': 'brn', 'iyr': '2014', 'cid': '74', 'hcl': '#623a2f', 'hgt': '187cm', 'byr': '1955', 'pid': '008305281', 'eyr': '2025'}\n",
      "2022-03-11 16:17:32,418 - __main__ - INFO - Passport: {'pid': '428624233', 'ecl': 'grn', 'eyr': '2027', 'hgt': '167cm', 'hcl': '#623a2f', 'byr': '1960', 'iyr': '2016'}\n",
      "2022-03-11 16:17:32,419 - __main__ - INFO - Passport: {'eyr': '2027', 'pid': '358876826', 'hgt': '171cm', 'ecl': 'oth', 'byr': '1957', 'iyr': '2018', 'hcl': '#ceb3a1', 'cid': '314'}\n",
      "2022-03-11 16:17:32,419 - __main__ - INFO - Passport: {'cid': '268', 'hgt': '73in', 'hcl': '#6b5442', 'eyr': '2025', 'ecl': 'brn', 'byr': '1988', 'pid': '899417027', 'iyr': '2015'}\n",
      "2022-03-11 16:17:32,420 - __main__ - INFO - Passport: {'iyr': '2020', 'hcl': '#b6652a', 'hgt': '177cm', 'eyr': '2028', 'ecl': 'hzl', 'byr': '1995', 'pid': '594197202'}\n",
      "2022-03-11 16:17:32,420 - __main__ - INFO - Passport: {'hcl': '#a97842', 'hgt': '179cm', 'byr': '1930', 'ecl': 'brn', 'pid': '010268954', 'eyr': '2020', 'iyr': '2010'}\n",
      "2022-03-11 16:17:32,420 - __main__ - INFO - Passport: {'eyr': '2028', 'ecl': 'blu', 'byr': '1935', 'hcl': '#6b5442', 'pid': '187679418', 'hgt': '174cm', 'iyr': '2016'}\n",
      "2022-03-11 16:17:32,421 - __main__ - INFO - Passport: {'iyr': '2019', 'hgt': '164cm', 'pid': '704379775', 'ecl': 'oth', 'hcl': '#888785', 'byr': '1930', 'eyr': '2025'}\n",
      "2022-03-11 16:17:32,421 - __main__ - INFO - Passport: {'ecl': 'hzl', 'hcl': '#7d3b0c', 'eyr': '2022', 'pid': '011589584', 'hgt': '64in', 'byr': '1945', 'iyr': '2014'}\n",
      "2022-03-11 16:17:32,422 - __main__ - INFO - Passport: {'byr': '1950', 'hcl': '#18171d', 'pid': '685748669', 'eyr': '2028', 'iyr': '2010', 'hgt': '176cm', 'ecl': 'grn'}\n",
      "2022-03-11 16:17:32,423 - __main__ - INFO - Passport: {'byr': '1989', 'hgt': '163cm', 'hcl': '#18171d', 'ecl': 'grn', 'iyr': '2020', 'pid': '721397788', 'cid': '308', 'eyr': '2020'}\n",
      "2022-03-11 16:17:32,423 - __main__ - INFO - Passport: {'ecl': 'amb', 'byr': '1951', 'hgt': '186cm', 'pid': '812513486', 'iyr': '2012', 'eyr': '2029', 'hcl': '#fffffd'}\n",
      "2022-03-11 16:17:32,424 - __main__ - INFO - Passport: {'cid': '102', 'byr': '1923', 'eyr': '2025', 'pid': '222102208', 'iyr': '2019', 'hcl': '#341e13', 'hgt': '167cm', 'ecl': 'amb'}\n",
      "2022-03-11 16:17:32,425 - __main__ - INFO - Passport: {'cid': '216', 'eyr': '2022', 'ecl': 'brn', 'pid': '002875069', 'iyr': '2019', 'hcl': '#cfa07d', 'byr': '1991', 'hgt': '164cm'}\n",
      "2022-03-11 16:17:32,427 - __main__ - INFO - Passport: {'iyr': '2014', 'byr': '1933', 'pid': '537809907', 'hgt': '185cm', 'eyr': '2029', 'hcl': '#341e13', 'ecl': 'blu'}\n",
      "2022-03-11 16:17:32,427 - __main__ - INFO - Passport: {'cid': '286', 'hgt': '166cm', 'byr': '1977', 'iyr': '2012', 'pid': '541909675', 'ecl': 'oth', 'eyr': '2020', 'hcl': '#59eb12'}\n",
      "2022-03-11 16:17:32,428 - __main__ - INFO - Passport: {'hcl': '#18171d', 'cid': '329', 'byr': '1921', 'eyr': '2027', 'iyr': '2019', 'pid': '440820443', 'hgt': '75in', 'ecl': 'blu'}\n",
      "2022-03-11 16:17:32,429 - __main__ - INFO - Passport: {'hcl': '#733820', 'hgt': '177cm', 'pid': '085529831', 'eyr': '2029', 'iyr': '2010', 'ecl': 'amb', 'byr': '1972'}\n",
      "2022-03-11 16:17:32,429 - __main__ - INFO - Passport: {'iyr': '2020', 'eyr': '2022', 'hgt': '191cm', 'hcl': '#7d3b0c', 'ecl': 'blu', 'byr': '1943', 'pid': '969407635'}\n",
      "2022-03-11 16:17:32,430 - __main__ - INFO - Passport: {'pid': '427618420', 'hgt': '155cm', 'iyr': '2012', 'ecl': 'brn', 'byr': '1948', 'eyr': '2029', 'hcl': '#6b5442'}\n",
      "2022-03-11 16:17:32,430 - __main__ - INFO - Passport: {'iyr': '2010', 'hcl': '#341e13', 'pid': '011326174', 'hgt': '185cm', 'byr': '1976', 'cid': '207', 'eyr': '2027', 'ecl': 'amb'}\n",
      "2022-03-11 16:17:32,430 - __main__ - INFO - Passport: {'hgt': '64in', 'pid': '499837104', 'hcl': '#3be285', 'byr': '1944', 'eyr': '2024', 'iyr': '2017', 'ecl': 'gry'}\n",
      "2022-03-11 16:17:32,431 - __main__ - INFO - Passport: {'cid': '256', 'hcl': '#a97842', 'byr': '2000', 'iyr': '2018', 'ecl': 'oth', 'eyr': '2022', 'pid': '637777693', 'hgt': '160cm'}\n",
      "2022-03-11 16:17:32,432 - __main__ - INFO - Passport: {'hgt': '152cm', 'cid': '164', 'hcl': '#866857', 'ecl': 'grn', 'eyr': '2025', 'pid': '495224989', 'iyr': '2020', 'byr': '1949'}\n",
      "2022-03-11 16:17:32,432 - __main__ - INFO - Passport: {'hgt': '182cm', 'ecl': 'blu', 'hcl': '#18171d', 'pid': '047931925', 'byr': '1964', 'iyr': '2012', 'eyr': '2030', 'cid': '167'}\n",
      "2022-03-11 16:17:32,433 - __main__ - INFO - Passport: {'byr': '1958', 'hcl': '#866857', 'iyr': '2019', 'hgt': '165cm', 'pid': '553631683', 'cid': '109', 'ecl': 'gry', 'eyr': '2023'}\n",
      "2022-03-11 16:17:32,434 - __main__ - INFO - Passport: {'cid': '156', 'iyr': '2014', 'pid': '811368482', 'eyr': '2026', 'hcl': '#b6652a', 'byr': '1994', 'hgt': '184cm', 'ecl': 'brn'}\n",
      "2022-03-11 16:17:32,434 - __main__ - INFO - Passport: {'iyr': '2017', 'hcl': '#c0946f', 'pid': '716422629', 'cid': '104', 'byr': '1974', 'hgt': '160cm', 'eyr': '2021', 'ecl': 'brn'}\n",
      "2022-03-11 16:17:32,435 - __main__ - INFO - Passport: {'byr': '2002', 'hgt': '180cm', 'hcl': '#602927', 'eyr': '2025', 'ecl': 'grn', 'iyr': '2011', 'pid': '887584172'}\n",
      "2022-03-11 16:17:32,436 - __main__ - INFO - Passport: {'iyr': '2016', 'hgt': '161cm', 'byr': '1989', 'eyr': '2023', 'ecl': 'amb', 'pid': '133770783', 'hcl': '#fffffd'}\n",
      "2022-03-11 16:17:32,437 - __main__ - INFO - Passport: {'cid': '75', 'byr': '1986', 'eyr': '2020', 'pid': '099478576', 'ecl': 'blu', 'hcl': '#733820', 'iyr': '2011', 'hgt': '158cm'}\n",
      "2022-03-11 16:17:32,438 - __main__ - INFO - Passport: {'pid': '911200183', 'hcl': '#602927', 'eyr': '2029', 'iyr': '2018', 'ecl': 'brn', 'hgt': '181cm', 'byr': '1937'}\n",
      "2022-03-11 16:17:32,438 - __main__ - INFO - Passport: {'hcl': '#18171d', 'eyr': '2025', 'cid': '222', 'byr': '1924', 'ecl': 'oth', 'pid': '898594506', 'hgt': '182cm', 'iyr': '2017'}\n",
      "2022-03-11 16:17:32,439 - __main__ - INFO - Passport: {'pid': '636691339', 'iyr': '2018', 'byr': '1930', 'hcl': '#b6652a', 'cid': '86', 'hgt': '184cm', 'ecl': 'oth', 'eyr': '2029'}\n",
      "2022-03-11 16:17:32,439 - __main__ - INFO - Passport: {'iyr': '2014', 'byr': '1927', 'hcl': '#fffffd', 'ecl': 'amb', 'eyr': '2022', 'hgt': '188cm', 'pid': '602778565'}\n",
      "2022-03-11 16:17:32,440 - __main__ - INFO - Passport: {'hgt': '155cm', 'iyr': '2015', 'byr': '1954', 'pid': '559203670', 'ecl': 'blu', 'hcl': '#fffffd', 'eyr': '2025'}\n",
      "2022-03-11 16:17:32,440 - __main__ - INFO - Passport: {'iyr': '2011', 'ecl': 'amb', 'eyr': '2026', 'hgt': '163cm', 'byr': '1932', 'hcl': '#733820', 'pid': '850176278'}\n",
      "2022-03-11 16:17:32,441 - __main__ - INFO - Passport: {'eyr': '2030', 'hgt': '170cm', 'iyr': '2017', 'byr': '1972', 'pid': '014731313', 'hcl': '#341e13', 'ecl': 'brn'}\n",
      "2022-03-11 16:17:32,441 - __main__ - INFO - Passport: {'pid': '133005637', 'hgt': '167cm', 'cid': '317', 'eyr': '2025', 'hcl': '#341e13', 'iyr': '2012', 'ecl': 'gry', 'byr': '1950'}\n",
      "2022-03-11 16:17:32,442 - __main__ - INFO - Passport: {'hcl': '#b6652a', 'cid': '142', 'ecl': 'oth', 'hgt': '190cm', 'byr': '1962', 'pid': '997137384', 'iyr': '2020', 'eyr': '2029'}\n"
     ]
    },
    {
     "name": "stderr",
     "output_type": "stream",
     "text": [
      "2022-03-11 16:17:32,442 - __main__ - INFO - Passport: {'ecl': 'brn', 'byr': '1962', 'hcl': '#866857', 'iyr': '2020', 'hgt': '152cm', 'pid': '701556397', 'cid': '121', 'eyr': '2029'}\n",
      "2022-03-11 16:17:32,442 - __main__ - INFO - Passport: {'iyr': '2016', 'hgt': '168cm', 'byr': '1999', 'cid': '286', 'hcl': '#18171d', 'pid': '223995430', 'eyr': '2022', 'ecl': 'blu'}\n",
      "2022-03-11 16:17:32,443 - __main__ - INFO - Passport: {'pid': '227780276', 'ecl': 'blu', 'iyr': '2017', 'byr': '1985', 'hcl': '#6b5442', 'hgt': '183cm', 'eyr': '2028'}\n",
      "2022-03-11 16:17:32,443 - __main__ - INFO - Passport: {'hgt': '190cm', 'ecl': 'oth', 'eyr': '2030', 'cid': '223', 'hcl': '#888785', 'iyr': '2010', 'pid': '115829664', 'byr': '1967'}\n",
      "2022-03-11 16:17:32,444 - __main__ - INFO - Passport: {'eyr': '2025', 'iyr': '2013', 'byr': '1958', 'ecl': 'grn', 'hcl': '#ceb3a1', 'hgt': '153cm', 'pid': '815357118'}\n",
      "2022-03-11 16:17:32,445 - __main__ - INFO - Passport: {'pid': '038013822', 'hgt': '180cm', 'iyr': '2013', 'hcl': '#623a2f', 'ecl': 'grn', 'eyr': '2029', 'byr': '1949'}\n",
      "2022-03-11 16:17:32,446 - __main__ - INFO - Passport: {'hgt': '183cm', 'hcl': '#efcc98', 'pid': '428260080', 'cid': '231', 'eyr': '2025', 'ecl': 'grn', 'iyr': '2010', 'byr': '1957'}\n",
      "2022-03-11 16:17:32,447 - __main__ - INFO - Passport: {'hcl': '#ceb3a1', 'iyr': '2014', 'byr': '1981', 'hgt': '167cm', 'ecl': 'grn', 'eyr': '2021', 'pid': '926925947'}\n",
      "2022-03-11 16:17:32,447 - __main__ - INFO - Passport: {'eyr': '2029', 'hgt': '166cm', 'pid': '499909488', 'byr': '1929', 'hcl': '#866857', 'ecl': 'brn', 'iyr': '2013'}\n",
      "2022-03-11 16:17:32,448 - __main__ - INFO - Passport: {'pid': '440245122', 'byr': '1992', 'hgt': '179cm', 'iyr': '2010', 'cid': '181', 'ecl': 'brn', 'hcl': '#888785', 'eyr': '2020'}\n",
      "2022-03-11 16:17:32,449 - __main__ - INFO - Passport: {'hcl': '#1b0a51', 'pid': '129985083', 'eyr': '2029', 'hgt': '192cm', 'cid': '236', 'byr': '1996', 'ecl': 'blu', 'iyr': '2016'}\n",
      "2022-03-11 16:17:32,449 - __main__ - INFO - Passport: {'cid': '187', 'eyr': '2029', 'hcl': '#efcc98', 'byr': '1986', 'pid': '760318090', 'hgt': '169cm', 'iyr': '2018', 'ecl': 'amb'}\n",
      "2022-03-11 16:17:32,450 - __main__ - INFO - Passport: {'hcl': '#ceb3a1', 'ecl': 'grn', 'iyr': '2018', 'byr': '1978', 'hgt': '183cm', 'pid': '566862236', 'eyr': '2028'}\n",
      "2022-03-11 16:17:32,450 - __main__ - INFO - Passport: {'ecl': 'grn', 'hcl': '#18171d', 'byr': '1957', 'pid': '325895714', 'iyr': '2018', 'eyr': '2023', 'hgt': '162cm'}\n",
      "2022-03-11 16:17:32,451 - __main__ - INFO - Passport: {'eyr': '2025', 'cid': '181', 'hgt': '186cm', 'byr': '1968', 'ecl': 'brn', 'pid': '318405093', 'hcl': '#341e13', 'iyr': '2015'}\n",
      "2022-03-11 16:17:32,451 - __main__ - INFO - Passport: {'hcl': '#c12f4b', 'eyr': '2025', 'cid': '311', 'pid': '652667870', 'ecl': 'oth', 'hgt': '166cm', 'byr': '1981', 'iyr': '2016'}\n",
      "2022-03-11 16:17:32,452 - __main__ - INFO - Passport: {'byr': '1937', 'eyr': '2021', 'iyr': '2017', 'cid': '91', 'hgt': '183cm', 'hcl': '#a97842', 'ecl': 'blu', 'pid': '149192621'}\n",
      "2022-03-11 16:17:32,453 - __main__ - INFO - Passport: {'hgt': '154cm', 'hcl': '#602927', 'ecl': 'oth', 'byr': '1939', 'iyr': '2018', 'pid': '670669747', 'eyr': '2029', 'cid': '301'}\n",
      "2022-03-11 16:17:32,453 - __main__ - INFO - Passport: {'eyr': '2025', 'pid': '249412970', 'ecl': 'oth', 'iyr': '2016', 'byr': '1921', 'hcl': '#a97842', 'hgt': '176cm'}\n",
      "2022-03-11 16:17:32,454 - __main__ - INFO - Passport: {'hgt': '164cm', 'iyr': '2016', 'byr': '1988', 'ecl': 'gry', 'eyr': '2030', 'hcl': '#efcc98', 'pid': '393258887'}\n",
      "2022-03-11 16:17:32,454 - __main__ - INFO - Passport: {'iyr': '2011', 'hgt': '165cm', 'eyr': '2020', 'byr': '1966', 'hcl': '#efcc98', 'pid': '691169980', 'ecl': 'blu'}\n",
      "2022-03-11 16:17:32,454 - __main__ - INFO - Passport: {'iyr': '2011', 'hcl': '#602927', 'eyr': '2029', 'byr': '1966', 'ecl': 'oth', 'hgt': '165cm', 'pid': '945383793'}\n",
      "2022-03-11 16:17:32,455 - __main__ - INFO - Passport: {'eyr': '2020', 'byr': '1995', 'hcl': '#b6652a', 'ecl': 'amb', 'pid': '746523744', 'iyr': '2015', 'hgt': '178cm'}\n",
      "2022-03-11 16:17:32,456 - __main__ - INFO - Passport: {'ecl': 'gry', 'iyr': '2017', 'eyr': '2020', 'pid': '537816651', 'hgt': '183cm', 'cid': '160', 'byr': '1996', 'hcl': '#733820'}\n",
      "2022-03-11 16:17:32,456 - __main__ - INFO - Passport: {'eyr': '2030', 'cid': '258', 'iyr': '2020', 'ecl': 'grn', 'byr': '1947', 'pid': '571610070', 'hgt': '162cm', 'hcl': '#888785'}\n",
      "2022-03-11 16:17:32,457 - __main__ - INFO - Passport: {'ecl': 'hzl', 'iyr': '2019', 'hcl': '#c0946f', 'eyr': '2025', 'byr': '1999', 'hgt': '178cm', 'pid': '026042669'}\n",
      "2022-03-11 16:17:32,458 - __main__ - INFO - Passport: {'cid': '99', 'pid': '706477697', 'iyr': '2018', 'hgt': '171cm', 'eyr': '2027', 'ecl': 'oth', 'byr': '1978', 'hcl': '#930aef'}\n",
      "2022-03-11 16:17:32,458 - __main__ - INFO - Passport: {'iyr': '2017', 'byr': '1935', 'eyr': '2029', 'ecl': 'amb', 'pid': '321873254', 'hgt': '179cm', 'hcl': '#1b9aea', 'cid': '160'}\n",
      "2022-03-11 16:17:32,459 - __main__ - INFO - Passport: {'iyr': '2013', 'ecl': 'hzl', 'eyr': '2023', 'cid': '233', 'byr': '1996', 'pid': '605962483', 'hgt': '175cm', 'hcl': '#ceb3a1'}\n",
      "2022-03-11 16:17:32,460 - __main__ - INFO - Passport: {'cid': '110', 'byr': '1935', 'eyr': '2021', 'hgt': '172cm', 'iyr': '2020', 'pid': '643443673', 'hcl': '#888785', 'ecl': 'brn'}\n",
      "2022-03-11 16:17:32,461 - __main__ - INFO - Passport: {'cid': '309', 'iyr': '2010', 'ecl': 'oth', 'hgt': '188cm', 'hcl': '#18171d', 'eyr': '2028', 'pid': '174227992', 'byr': '1931'}\n",
      "2022-03-11 16:17:32,462 - __main__ - INFO - Passport: {'pid': '192554211', 'eyr': '2020', 'hgt': '192cm', 'ecl': 'gry', 'cid': '158', 'iyr': '2015', 'byr': '1940', 'hcl': '#efcc98'}\n",
      "2022-03-11 16:17:32,463 - __main__ - INFO - Passport: {'iyr': '2010', 'eyr': '2022', 'cid': '276', 'hcl': '#a97842', 'byr': '1968', 'ecl': 'gry', 'pid': '808830560', 'hgt': '188cm'}\n",
      "2022-03-11 16:17:32,464 - __main__ - INFO - Passport: {'byr': '1941', 'pid': '039744699', 'hcl': '#efcc98', 'hgt': '190cm', 'iyr': '2011', 'eyr': '2020', 'ecl': 'blu'}\n",
      "2022-03-11 16:17:32,464 - __main__ - INFO - Passport: {'ecl': 'blu', 'iyr': '2011', 'byr': '1928', 'hcl': '#c0946f', 'hgt': '172cm', 'eyr': '2026', 'pid': '171544458'}\n",
      "2022-03-11 16:17:32,465 - __main__ - INFO - Passport: {'byr': '1929', 'pid': '145819079', 'ecl': 'hzl', 'hgt': '192cm', 'iyr': '2015', 'eyr': '2020', 'hcl': '#b6652a'}\n",
      "2022-03-11 16:17:32,466 - __main__ - INFO - Passport: {'byr': '1981', 'ecl': 'amb', 'pid': '123467924', 'eyr': '2024', 'hcl': '#18171d', 'hgt': '184cm', 'iyr': '2017'}\n",
      "2022-03-11 16:17:32,466 - __main__ - INFO - Passport: {'eyr': '2022', 'pid': '208725350', 'byr': '1944', 'ecl': 'blu', 'hcl': '#18171d', 'cid': '164', 'hgt': '170cm', 'iyr': '2014'}\n",
      "2022-03-11 16:17:32,467 - __main__ - INFO - Passport: {'byr': '1944', 'cid': '87', 'pid': '463367304', 'iyr': '2020', 'hgt': '188cm', 'ecl': 'gry', 'eyr': '2027', 'hcl': '#cfa07d'}\n",
      "2022-03-11 16:17:32,467 - __main__ - INFO - Passport: {'hgt': '155cm', 'pid': '791416860', 'iyr': '2015', 'cid': '278', 'hcl': '#18171d', 'byr': '1994', 'ecl': 'brn', 'eyr': '2023'}\n",
      "2022-03-11 16:17:32,468 - __main__ - INFO - Passport: {'iyr': '2017', 'cid': '245', 'eyr': '2026', 'byr': '1932', 'ecl': 'blu', 'hgt': '159cm', 'pid': '904760812', 'hcl': '#18171d'}\n",
      "2022-03-11 16:17:32,468 - __main__ - INFO - Passport: {'ecl': 'blu', 'hcl': '#6b5442', 'iyr': '2015', 'eyr': '2023', 'pid': '535891497', 'hgt': '175cm', 'cid': '168', 'byr': '1920'}\n",
      "2022-03-11 16:17:32,469 - __main__ - INFO - Passport: {'byr': '2000', 'hcl': '#6b5442', 'hgt': '156cm', 'pid': '765444727', 'iyr': '2012', 'ecl': 'brn', 'eyr': '2028'}\n",
      "2022-03-11 16:17:32,469 - __main__ - INFO - Passport: {'cid': '275', 'byr': '1928', 'iyr': '2010', 'hcl': '#888785', 'pid': '596954301', 'ecl': 'brn', 'eyr': '2020', 'hgt': '166cm'}\n",
      "2022-03-11 16:17:32,470 - __main__ - INFO - Passport: {'cid': '163', 'byr': '1984', 'eyr': '2027', 'iyr': '2020', 'ecl': 'gry', 'hgt': '166cm', 'pid': '650001846', 'hcl': '#602927'}\n",
      "2022-03-11 16:17:32,470 - __main__ - INFO - Passport: {'eyr': '2024', 'iyr': '2016', 'pid': '133523002', 'hgt': '62in', 'hcl': '#d99c14', 'byr': '1996', 'ecl': 'hzl'}\n",
      "2022-03-11 16:17:32,471 - __main__ - INFO - Passport: {'eyr': '2026', 'iyr': '2019', 'hgt': '189cm', 'ecl': 'brn', 'hcl': '#623a2f', 'byr': '1979', 'pid': '172111665'}\n"
     ]
    },
    {
     "name": "stderr",
     "output_type": "stream",
     "text": [
      "2022-03-11 16:17:32,471 - __main__ - INFO - Passport: {'eyr': '2024', 'hcl': '#6b5442', 'iyr': '2014', 'hgt': '68in', 'pid': '577055593', 'ecl': 'grn', 'byr': '1996'}\n",
      "2022-03-11 16:17:32,472 - __main__ - INFO - Passport: {'hcl': '#efcc98', 'eyr': '2022', 'ecl': 'grn', 'hgt': '167cm', 'byr': '1978', 'iyr': '2010', 'pid': '180446111'}\n",
      "2022-03-11 16:17:32,472 - __main__ - INFO - Passport: {'hcl': '#341e13', 'ecl': 'brn', 'iyr': '2019', 'pid': '589837530', 'cid': '157', 'byr': '1925', 'hgt': '183cm', 'eyr': '2020'}\n",
      "2022-03-11 16:17:32,473 - __main__ - INFO - Passport: {'ecl': 'oth', 'iyr': '2012', 'eyr': '2028', 'hcl': '#866857', 'pid': '716964854', 'byr': '1940', 'cid': '113', 'hgt': '193cm'}\n",
      "2022-03-11 16:17:32,473 - __main__ - INFO - Passport: {'byr': '1985', 'iyr': '2011', 'hcl': '#866857', 'pid': '454558712', 'eyr': '2025', 'cid': '301', 'hgt': '62in', 'ecl': 'blu'}\n",
      "2022-03-11 16:17:32,474 - __main__ - INFO - Passport: {'hcl': '#733820', 'eyr': '2025', 'ecl': 'amb', 'pid': '855788635', 'iyr': '2016', 'byr': '1965', 'cid': '140', 'hgt': '183cm'}\n",
      "2022-03-11 16:17:32,474 - __main__ - INFO - Passport: {'hcl': '#733820', 'eyr': '2022', 'pid': '708208638', 'hgt': '162cm', 'cid': '326', 'iyr': '2018', 'ecl': 'oth', 'byr': '1997'}\n",
      "2022-03-11 16:17:32,474 - __main__ - INFO - Passport: {'hcl': '#733820', 'iyr': '2019', 'eyr': '2020', 'hgt': '190cm', 'pid': '042907748', 'ecl': 'grn', 'byr': '1920'}\n",
      "2022-03-11 16:17:32,475 - __main__ - INFO - Passport: {'ecl': 'oth', 'eyr': '2030', 'byr': '1960', 'hcl': '#a97842', 'cid': '285', 'hgt': '60in', 'pid': '655974048', 'iyr': '2016'}\n",
      "2022-03-11 16:17:32,475 - __main__ - INFO - Passport: {'hcl': '#fffffd', 'ecl': 'hzl', 'hgt': '191cm', 'byr': '1935', 'iyr': '2015', 'cid': '240', 'eyr': '2030', 'pid': '778049989'}\n",
      "2022-03-11 16:17:32,476 - __main__ - INFO - Passport: {'eyr': '2023', 'hcl': '#623a2f', 'cid': '103', 'pid': '476193829', 'hgt': '181cm', 'ecl': 'oth', 'byr': '1997', 'iyr': '2014'}\n",
      "2022-03-11 16:17:32,476 - __main__ - INFO - Passport: {'byr': '1996', 'eyr': '2026', 'pid': '268556486', 'ecl': 'brn', 'hgt': '150cm', 'iyr': '2013', 'hcl': '#7d3b0c'}\n",
      "2022-03-11 16:17:32,476 - __main__ - INFO - Passport: {'pid': '530689228', 'byr': '1938', 'iyr': '2015', 'hgt': '185cm', 'ecl': 'hzl', 'eyr': '2022', 'hcl': '#866857'}\n",
      "2022-03-11 16:17:32,477 - __main__ - INFO - Passport: {'hgt': '171cm', 'ecl': 'gry', 'hcl': '#6b5442', 'byr': '1953', 'iyr': '2011', 'pid': '622763802', 'eyr': '2026'}\n",
      "2022-03-11 16:17:32,477 - __main__ - INFO - Passport: {'hcl': '#95f96b', 'hgt': '193cm', 'iyr': '2020', 'pid': '719337690', 'byr': '1971', 'ecl': 'brn', 'eyr': '2024'}\n"
     ]
    },
    {
     "data": {
      "text/plain": [
       "109"
      ]
     },
     "execution_count": 197,
     "metadata": {},
     "output_type": "execute_result"
    }
   ],
   "source": [
    "raw_passport = []\n",
    "valid_passport_count = 0\n",
    "temp = []\n",
    "passport = {}\n",
    "for row in raw_data:\n",
    "    if pd.notnull(row):\n",
    "        raw_passport.append(row)\n",
    "    else:\n",
    "        passport = create_passport(raw_passport)\n",
    "        #logger.info(f\"Passport: {passport}\")\n",
    "        valid = strict_test_passport(passport)\n",
    "        #logger.info(f\"Valid: {valid}\")\n",
    "        if valid:\n",
    "            logger.info(f\"Passport: {passport}\")\n",
    "            valid_passport_count += 1\n",
    "            temp.append(passport['hgt'])\n",
    "        raw_passport = []\n",
    "valid_passport_count\n",
    "#set(temp)"
   ]
  },
  {
   "cell_type": "raw",
   "id": "b7fa4164",
   "metadata": {},
   "source": []
  }
 ],
 "metadata": {
  "kernelspec": {
   "display_name": "Python 3 (ipykernel)",
   "language": "python",
   "name": "python3"
  },
  "language_info": {
   "codemirror_mode": {
    "name": "ipython",
    "version": 3
   },
   "file_extension": ".py",
   "mimetype": "text/x-python",
   "name": "python",
   "nbconvert_exporter": "python",
   "pygments_lexer": "ipython3",
   "version": "3.9.6"
  }
 },
 "nbformat": 4,
 "nbformat_minor": 5
}
