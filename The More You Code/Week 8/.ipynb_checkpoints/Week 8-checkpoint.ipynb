{
 "cells": [
  {
   "cell_type": "code",
   "execution_count": 6,
   "id": "cd8ae160",
   "metadata": {
    "pycharm": {
     "is_executing": true
    }
   },
   "outputs": [],
   "source": [
    "import pandas as pd"
   ]
  },
  {
   "cell_type": "code",
   "execution_count": 63,
   "id": "1b6852e9",
   "metadata": {},
   "outputs": [],
   "source": [
    "test_data = pd.read_table('test directions.txt', names = ['commands'], skip_blank_lines=False).squeeze('columns')\n",
    "raw_data = pd.read_table('full directions.txt', names = ['commands'], skip_blank_lines=False).squeeze('columns')"
   ]
  },
  {
   "cell_type": "code",
   "execution_count": 8,
   "id": "214a4855",
   "metadata": {},
   "outputs": [
    {
     "data": {
      "text/html": [
       "<div>\n",
       "<style scoped>\n",
       "    .dataframe tbody tr th:only-of-type {\n",
       "        vertical-align: middle;\n",
       "    }\n",
       "\n",
       "    .dataframe tbody tr th {\n",
       "        vertical-align: top;\n",
       "    }\n",
       "\n",
       "    .dataframe thead th {\n",
       "        text-align: right;\n",
       "    }\n",
       "</style>\n",
       "<table border=\"1\" class=\"dataframe\">\n",
       "  <thead>\n",
       "    <tr style=\"text-align: right;\">\n",
       "      <th></th>\n",
       "      <th>direction</th>\n",
       "      <th>distance</th>\n",
       "    </tr>\n",
       "  </thead>\n",
       "  <tbody>\n",
       "    <tr>\n",
       "      <th>0</th>\n",
       "      <td>F</td>\n",
       "      <td>37</td>\n",
       "    </tr>\n",
       "  </tbody>\n",
       "</table>\n",
       "</div>"
      ],
      "text/plain": [
       "  direction  distance\n",
       "0         F        37"
      ]
     },
     "execution_count": 8,
     "metadata": {},
     "output_type": "execute_result"
    }
   ],
   "source": [
    "def parse(contents):\n",
    "    command = {}\n",
    "    command['direction'] = [contents[0]]\n",
    "    command['distance'] = [int(contents[1:])]\n",
    "    return pd.DataFrame.from_dict(command)\n",
    "\n",
    "parse(raw_data[0])"
   ]
  },
  {
   "cell_type": "code",
   "execution_count": 64,
   "id": "c81fa73a",
   "metadata": {},
   "outputs": [],
   "source": [
    "def parse_all(raw):\n",
    "    all_rules = pd.DataFrame(columns = ['direction', 'distance'])\n",
    "    for line in raw:\n",
    "        all_rules = pd.concat([all_rules, parse(line)], ignore_index=True)\n",
    "    return all_rules\n",
    "\n",
    "trial_data = parse_all(test_data)\n",
    "data = parse_all(raw_data)"
   ]
  },
  {
   "cell_type": "code",
   "execution_count": 70,
   "id": "e0dcc940",
   "metadata": {},
   "outputs": [
    {
     "data": {
      "text/plain": [
       "{'direction': 90, 'north': 0, 'east': 10}"
      ]
     },
     "execution_count": 70,
     "metadata": {},
     "output_type": "execute_result"
    }
   ],
   "source": [
    "ship = {'direction': 90,\n",
    "       'north': 0,\n",
    "       'east': 0}\n",
    "\n",
    "def act(ship, command):\n",
    "    direction = command['direction'].values[0]\n",
    "    distance = command['distance'].values[0]\n",
    "    if direction == 'F':\n",
    "        if ship['direction'] == 90:\n",
    "            ship['east'] += distance\n",
    "        elif ship['direction'] == 0:\n",
    "            ship['north'] += distance\n",
    "        elif ship['direction'] == 270:\n",
    "            ship['east'] -= distance\n",
    "        elif ship['direction'] == 180:\n",
    "            ship['north'] -= distance\n",
    "        else:\n",
    "            raise \"Unknown Direction\"\n",
    "    if direction == 'R':\n",
    "        ship['direction'] += distance\n",
    "        ship['direction'] = ship['direction'] % 360\n",
    "    if direction == 'L':\n",
    "        ship['direction'] -= distance\n",
    "        ship['direction'] = ship['direction'] % 360\n",
    "    if direction == 'E':\n",
    "        ship['east'] += distance\n",
    "    if direction == 'N':\n",
    "        ship['north'] += distance\n",
    "    if direction == 'W':\n",
    "        ship['east'] -= distance\n",
    "    if direction == 'S':\n",
    "        ship['north'] -= distance\n",
    "    return ship\n",
    "\n",
    "act(ship, trial_data.iloc[[0]])\n",
    "    "
   ]
  },
  {
   "cell_type": "code",
   "execution_count": 71,
   "id": "0a4f1d2c",
   "metadata": {},
   "outputs": [
    {
     "name": "stdout",
     "output_type": "stream",
     "text": [
      "{'direction': 180, 'north': -8, 'east': 17}\n"
     ]
    },
    {
     "data": {
      "text/plain": [
       "25"
      ]
     },
     "execution_count": 71,
     "metadata": {},
     "output_type": "execute_result"
    }
   ],
   "source": [
    "def all_actions(commands):\n",
    "    ship = {'direction': 90,\n",
    "            'north': 0,\n",
    "            'east': 0}\n",
    "    for n in range(0,len(commands)):\n",
    "        ship = act(ship, commands.iloc[[n]])\n",
    "    print(ship)\n",
    "    manhattan_distance = abs(ship['east']) + abs(ship['north'])\n",
    "    return manhattan_distance\n",
    "\n",
    "all_actions(trial_data)"
   ]
  },
  {
   "cell_type": "code",
   "execution_count": 90,
   "id": "2e742aac",
   "metadata": {},
   "outputs": [
    {
     "name": "stdout",
     "output_type": "stream",
     "text": [
      "{'direction': 90, 'north': 0, 'east': 10}\n"
     ]
    },
    {
     "data": {
      "text/plain": [
       "10"
      ]
     },
     "execution_count": 90,
     "metadata": {},
     "output_type": "execute_result"
    }
   ],
   "source": [
    "test2 = pd.read_table('test2.txt', names = ['commands'], skip_blank_lines=False).squeeze('columns')\n",
    "test2 = parse_all(test2)\n",
    "all_actions(test2)"
   ]
  },
  {
   "cell_type": "code",
   "execution_count": 72,
   "id": "49f080db",
   "metadata": {},
   "outputs": [
    {
     "name": "stdout",
     "output_type": "stream",
     "text": [
      "{'direction': 180, 'north': -1162, 'east': -1066}\n"
     ]
    },
    {
     "data": {
      "text/plain": [
       "2228"
      ]
     },
     "execution_count": 72,
     "metadata": {},
     "output_type": "execute_result"
    }
   ],
   "source": [
    "all_actions(data)"
   ]
  },
  {
   "cell_type": "code",
   "execution_count": 86,
   "id": "303626b3",
   "metadata": {},
   "outputs": [
    {
     "data": {
      "text/plain": [
       "{'north': -1, 'east': -10}"
      ]
     },
     "execution_count": 86,
     "metadata": {},
     "output_type": "execute_result"
    }
   ],
   "source": [
    "waypoint = {'north': 1,\n",
    "            'east': 10}\n",
    "\n",
    "def move_waypoint(waypoint, command):\n",
    "    direction = command['direction'].values[0]\n",
    "    distance = command['distance'].values[0]\n",
    "    \n",
    "    if direction == 'E':\n",
    "        waypoint['east'] += distance\n",
    "    if direction == 'N':\n",
    "        waypoint['north'] += distance\n",
    "    if direction == 'W':\n",
    "        waypoint['east'] -= distance\n",
    "    if direction == 'S':\n",
    "        waypoint['north'] -= distance\n",
    "    \n",
    "    if direction == 'R':\n",
    "        rotations = int(distance / 90)\n",
    "        for rotation in range(0, rotations):\n",
    "            old_north = waypoint['north']\n",
    "            old_east = waypoint['east']\n",
    "            waypoint['east'] = old_north\n",
    "            waypoint['north'] = -old_east\n",
    "    if direction == 'L':\n",
    "        rotations = int(distance / 90)\n",
    "        for rotation in range(0, rotations):\n",
    "            old_north = waypoint['north']\n",
    "            old_east = waypoint['east']\n",
    "            waypoint['east'] = -old_north\n",
    "            waypoint['north'] = old_east\n",
    "    return waypoint\n",
    "\n",
    "move_waypoint(waypoint, test2)"
   ]
  },
  {
   "cell_type": "code",
   "execution_count": 92,
   "id": "09c5a588",
   "metadata": {},
   "outputs": [
    {
     "data": {
      "text/plain": [
       "{'north': 10, 'east': 100}"
      ]
     },
     "execution_count": 92,
     "metadata": {},
     "output_type": "execute_result"
    }
   ],
   "source": [
    "ship = {'north': 0,\n",
    "        'east': 0}\n",
    "\n",
    "waypoint = {'north': 1,\n",
    "            'east': 10}\n",
    "\n",
    "def move_ship(ship, waypoint, command):\n",
    "    distance = command['distance'].values[0]\n",
    "    \n",
    "    ship['east'] += distance * waypoint['east']\n",
    "    ship['north'] += distance * waypoint['north']\n",
    "    \n",
    "    return ship\n",
    "\n",
    "move_ship(ship, waypoint, test2)"
   ]
  },
  {
   "cell_type": "code",
   "execution_count": 95,
   "id": "3d9fb69e",
   "metadata": {},
   "outputs": [
    {
     "name": "stdout",
     "output_type": "stream",
     "text": [
      "{'north': -72, 'east': 214}\n"
     ]
    },
    {
     "data": {
      "text/plain": [
       "286"
      ]
     },
     "execution_count": 95,
     "metadata": {},
     "output_type": "execute_result"
    }
   ],
   "source": [
    "def all_actions_2(commands):\n",
    "    ship = {'north': 0,\n",
    "            'east': 0}\n",
    "\n",
    "    waypoint = {'north': 1,\n",
    "                'east': 10}\n",
    "\n",
    "    for n in range(0,len(commands)):\n",
    "        command = commands.iloc[[n]]\n",
    "        if command['direction'].values[0] == 'F':\n",
    "            ship = move_ship(ship, waypoint, command)\n",
    "        else:\n",
    "            waypoint = move_waypoint(waypoint, command)\n",
    "    print(ship)\n",
    "    manhattan_distance = abs(ship['east']) + abs(ship['north'])\n",
    "    return manhattan_distance\n",
    "\n",
    "all_actions_2(trial_data)"
   ]
  },
  {
   "cell_type": "code",
   "execution_count": 96,
   "id": "d23938d8",
   "metadata": {},
   "outputs": [
    {
     "name": "stdout",
     "output_type": "stream",
     "text": [
      "{'north': -37401, 'east': 5507}\n"
     ]
    },
    {
     "data": {
      "text/plain": [
       "42908"
      ]
     },
     "execution_count": 96,
     "metadata": {},
     "output_type": "execute_result"
    }
   ],
   "source": [
    "all_actions_2(data)"
   ]
  }
 ],
 "metadata": {
  "kernelspec": {
   "display_name": "Python 3 (ipykernel)",
   "language": "python",
   "name": "python3"
  },
  "language_info": {
   "codemirror_mode": {
    "name": "ipython",
    "version": 3
   },
   "file_extension": ".py",
   "mimetype": "text/x-python",
   "name": "python",
   "nbconvert_exporter": "python",
   "pygments_lexer": "ipython3",
   "version": "3.9.6"
  }
 },
 "nbformat": 4,
 "nbformat_minor": 5
}
