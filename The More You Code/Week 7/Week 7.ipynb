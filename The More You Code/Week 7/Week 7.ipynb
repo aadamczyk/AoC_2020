{
 "cells": [
  {
   "cell_type": "code",
   "execution_count": 15,
   "metadata": {
    "pycharm": {
     "is_executing": true
    }
   },
   "outputs": [],
   "source": [
    "import pandas as pd"
   ]
  },
  {
   "cell_type": "code",
   "execution_count": 16,
   "metadata": {},
   "outputs": [],
   "source": [
    "test_data = pd.read_table('test program.txt', names = ['program'], skip_blank_lines=False).squeeze('columns')\n",
    "raw_data = pd.read_table('full program.txt', names = ['program'], skip_blank_lines=False).squeeze('columns')"
   ]
  },
  {
   "cell_type": "code",
   "execution_count": 17,
   "metadata": {},
   "outputs": [
    {
     "data": {
      "text/html": [
       "<div>\n",
       "<style scoped>\n",
       "    .dataframe tbody tr th:only-of-type {\n",
       "        vertical-align: middle;\n",
       "    }\n",
       "\n",
       "    .dataframe tbody tr th {\n",
       "        vertical-align: top;\n",
       "    }\n",
       "\n",
       "    .dataframe thead th {\n",
       "        text-align: right;\n",
       "    }\n",
       "</style>\n",
       "<table border=\"1\" class=\"dataframe\">\n",
       "  <thead>\n",
       "    <tr style=\"text-align: right;\">\n",
       "      <th></th>\n",
       "      <th>command</th>\n",
       "      <th>amount</th>\n",
       "    </tr>\n",
       "  </thead>\n",
       "  <tbody>\n",
       "    <tr>\n",
       "      <th>0</th>\n",
       "      <td>jmp</td>\n",
       "      <td>27</td>\n",
       "    </tr>\n",
       "  </tbody>\n",
       "</table>\n",
       "</div>"
      ],
      "text/plain": [
       "  command  amount\n",
       "0     jmp      27"
      ]
     },
     "execution_count": 17,
     "metadata": {},
     "output_type": "execute_result"
    }
   ],
   "source": [
    "def parse(contents):\n",
    "    content_list = contents.split()\n",
    "    program = {}\n",
    "    program['command'] = [content_list[0]]\n",
    "    program['amount'] = [int(content_list[1])]\n",
    "    return pd.DataFrame.from_dict(program)\n",
    "\n",
    "parse(raw_data[0])"
   ]
  },
  {
   "cell_type": "code",
   "execution_count": 18,
   "metadata": {},
   "outputs": [],
   "source": [
    "def parse_all(raw):\n",
    "    all_rules = pd.DataFrame(columns = ['command', 'amount'])\n",
    "    for line in raw:\n",
    "        all_rules = pd.concat([all_rules, parse(line)], ignore_index=True)\n",
    "    return all_rules\n",
    "\n",
    "trial_data = parse_all(test_data)\n",
    "data = parse_all(raw_data)"
   ]
  },
  {
   "cell_type": "code",
   "execution_count": 19,
   "metadata": {},
   "outputs": [
    {
     "data": {
      "text/plain": [
       "5"
      ]
     },
     "execution_count": 19,
     "metadata": {},
     "output_type": "execute_result"
    }
   ],
   "source": [
    "def accumulator(program):\n",
    "    accumulator = 0\n",
    "    position = 0\n",
    "    old_positions = set()\n",
    "    active = True\n",
    "    \n",
    "    while active:\n",
    "        cur_op = program['command'][position]\n",
    "        if cur_op == 'acc':\n",
    "            accumulator += program['amount'][position]\n",
    "            position += 1\n",
    "        elif cur_op == 'jmp':\n",
    "            position += program['amount'][position]\n",
    "        elif cur_op == 'nop':\n",
    "            position += 1\n",
    "        else:\n",
    "            raise Exception('Unknown Operation')\n",
    "        if position in old_positions:\n",
    "            return accumulator\n",
    "        else:\n",
    "            old_positions.add(position)\n",
    "\n",
    "accumulator(trial_data)"
   ]
  },
  {
   "cell_type": "code",
   "execution_count": 20,
   "metadata": {},
   "outputs": [
    {
     "data": {
      "text/plain": [
       "1487"
      ]
     },
     "execution_count": 20,
     "metadata": {},
     "output_type": "execute_result"
    }
   ],
   "source": [
    "accumulator(data)"
   ]
  },
  {
   "cell_type": "code",
   "execution_count": 21,
   "metadata": {},
   "outputs": [
    {
     "data": {
      "text/plain": [
       "(5, 1)"
      ]
     },
     "execution_count": 21,
     "metadata": {},
     "output_type": "execute_result"
    }
   ],
   "source": [
    "def accumulator_v2(program):\n",
    "    accumulator = 0\n",
    "    position = 0\n",
    "    old_positions = set()\n",
    "    active = True\n",
    "    \n",
    "    while active:\n",
    "        cur_op = program['command'][position]\n",
    "        if cur_op == 'acc':\n",
    "            accumulator += program['amount'][position]\n",
    "            position += 1\n",
    "        elif cur_op == 'jmp':\n",
    "            position += program['amount'][position]\n",
    "        elif cur_op == 'nop':\n",
    "            position += 1\n",
    "        else:\n",
    "            raise Exception('Unknown Operation')\n",
    "        if position == len(program):\n",
    "            return accumulator, position\n",
    "        if position in old_positions:\n",
    "            return accumulator, position\n",
    "        else:\n",
    "            old_positions.add(position)\n",
    "\n",
    "accumulator_v2(trial_data)"
   ]
  },
  {
   "cell_type": "code",
   "execution_count": 27,
   "metadata": {},
   "outputs": [
    {
     "data": {
      "text/plain": [
       "8"
      ]
     },
     "execution_count": 27,
     "metadata": {},
     "output_type": "execute_result"
    }
   ],
   "source": [
    "def accumulator_search(program):\n",
    "    change = 0\n",
    "    for change in range(0,len(program)):\n",
    "        test_program = program.copy()\n",
    "        if program['command'][change] == 'nop':\n",
    "            test_program['command'][change] = 'jmp'\n",
    "        elif program['command'][change] == 'jmp':\n",
    "            test_program['command'][change] = 'nop'\n",
    "        elif program['command'][change] == 'acc':\n",
    "            pass\n",
    "        else:\n",
    "            raise Exception('Unknown Operation')\n",
    "        result = accumulator_v2(test_program)\n",
    "        if result[1] == len(program):\n",
    "            return result[0]\n",
    "\n",
    "accumulator_search(trial_data)"
   ]
  },
  {
   "cell_type": "code",
   "execution_count": 29,
   "metadata": {},
   "outputs": [
    {
     "data": {
      "text/plain": [
       "1607"
      ]
     },
     "execution_count": 29,
     "metadata": {},
     "output_type": "execute_result"
    }
   ],
   "source": [
    "accumulator_search(data)"
   ]
  }
 ],
 "metadata": {
  "kernelspec": {
   "display_name": "Python 3 (ipykernel)",
   "language": "python",
   "name": "python3"
  },
  "language_info": {
   "codemirror_mode": {
    "name": "ipython",
    "version": 3
   },
   "file_extension": ".py",
   "mimetype": "text/x-python",
   "name": "python",
   "nbconvert_exporter": "python",
   "pygments_lexer": "ipython3",
   "version": "3.9.6"
  }
 },
 "nbformat": 4,
 "nbformat_minor": 1
}