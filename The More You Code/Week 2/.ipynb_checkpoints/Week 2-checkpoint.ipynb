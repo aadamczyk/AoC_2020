{
 "cells": [
  {
   "cell_type": "code",
   "execution_count": 3,
   "metadata": {
    "pycharm": {
     "is_executing": true
    }
   },
   "outputs": [],
   "source": [
    "import pandas as pd"
   ]
  },
  {
   "cell_type": "code",
   "execution_count": 43,
   "metadata": {},
   "outputs": [],
   "source": [
    "raw_data = pd.read_table('Customs.txt', names = ['response'], skip_blank_lines=False).squeeze('columns')"
   ]
  },
  {
   "cell_type": "code",
   "execution_count": 62,
   "metadata": {},
   "outputs": [
    {
     "name": "stdout",
     "output_type": "stream",
     "text": [
      "6161\n"
     ]
    }
   ],
   "source": [
    "response = []\n",
    "count = 0\n",
    "for passenger in data:\n",
    "    #print(passenger)\n",
    "    if pd.notnull(passenger):\n",
    "        response += passenger\n",
    "        #print(response)\n",
    "    else:\n",
    "        count += len(set(response))\n",
    "        #print(count)\n",
    "        #print(len(set(response)))\n",
    "        #print(response)\n",
    "        #print(set(response))\n",
    "        response = []\n",
    "\n",
    "count += len(set(response))\n",
    "print(count)"
   ]
  },
  {
   "cell_type": "markdown",
   "metadata": {},
   "source": [
    "# Part 2"
   ]
  },
  {
   "cell_type": "code",
   "execution_count": 64,
   "metadata": {},
   "outputs": [],
   "source": [
    "from collections import Counter"
   ]
  },
  {
   "cell_type": "code",
   "execution_count": 77,
   "metadata": {},
   "outputs": [
    {
     "name": "stdout",
     "output_type": "stream",
     "text": [
      "2971\n"
     ]
    }
   ],
   "source": [
    "response = []\n",
    "passenger_count = 0\n",
    "count = 0\n",
    "for passenger in data:\n",
    "    #print(passenger)\n",
    "    if pd.notnull(passenger):\n",
    "        response += passenger\n",
    "        passenger_count += 1\n",
    "        #print(response)\n",
    "    else:\n",
    "        group_response = Counter(response)\n",
    "        #print(group_response)\n",
    "        \n",
    "        test = dict(filter(lambda elem: elem[1] == passenger_count, group_response.items()))\n",
    "        #print(test)\n",
    "        count += len(test.keys())\n",
    "        #print(count)\n",
    "        #print(len(set(response)))\n",
    "        #print(response)\n",
    "        #print(set(response))\n",
    "        response = []\n",
    "        passenger_count = 0\n",
    "\n",
    "group_response = Counter(response)\n",
    "test = dict(filter(lambda elem: elem[1] == passenger_count, group_response.items()))\n",
    "count += len(test.keys())\n",
    "print(count)"
   ]
  },
  {
   "cell_type": "code",
   "execution_count": 74,
   "metadata": {},
   "outputs": [],
   "source": [
    "data = raw_data"
   ]
  },
  {
   "cell_type": "code",
   "execution_count": 67,
   "metadata": {},
   "outputs": [
    {
     "data": {
      "text/plain": [
       "0    tzibqaulrw\n",
       "1        bratip\n",
       "2        trbhia\n",
       "3         rtiab\n",
       "4           NaN\n",
       "Name: response, dtype: object"
      ]
     },
     "execution_count": 67,
     "metadata": {},
     "output_type": "execute_result"
    }
   ],
   "source": [
    "data.head(10)"
   ]
  }
 ],
 "metadata": {
  "kernelspec": {
   "display_name": "Python 3 (ipykernel)",
   "language": "python",
   "name": "python3"
  },
  "language_info": {
   "codemirror_mode": {
    "name": "ipython",
    "version": 3
   },
   "file_extension": ".py",
   "mimetype": "text/x-python",
   "name": "python",
   "nbconvert_exporter": "python",
   "pygments_lexer": "ipython3",
   "version": "3.9.6"
  }
 },
 "nbformat": 4,
 "nbformat_minor": 1
}
